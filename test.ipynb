{
 "cells": [
  {
   "cell_type": "code",
   "execution_count": 6,
   "metadata": {},
   "outputs": [],
   "source": [
    "import requests\n",
    " \n",
    "response = requests.get('http://prasannakulkarni.com')\n",
    "html_text_to_check = response.text\n"
   ]
  },
  {
   "cell_type": "code",
   "execution_count": 7,
   "metadata": {},
   "outputs": [
    {
     "name": "stdout",
     "output_type": "stream",
     "text": [
      "/\n",
      "/pages/about-prasanna.html\n",
      "/\n",
      "/category/analyst.html\n",
      "/category/coding.html\n",
      "/category/public-journal.html\n",
      "/category/seed.html\n",
      "/the-heart-of-yoga-daily-yoga-practice.html\n",
      "/author/prasanna-kulkarni.html\n",
      "/category/public-journal.html\n",
      "#below-are-four-yoga-practices-from-the-book\n",
      "#practice-1\n",
      "#practice-2\n",
      "#practice-3\n",
      "#practice-4\n",
      "#pranayama-techniques\n",
      "#obstacles-to-yoga\n",
      "#limbs-of-yoga\n",
      "#favorite-quotes\n",
      "#toc-entry-1\n",
      "#toc-entry-2\n",
      "#toc-entry-3\n",
      "#toc-entry-4\n",
      "#toc-entry-5\n",
      "#toc-entry-6\n",
      "#toc-entry-7\n",
      "#toc-entry-8\n",
      "#toc-entry-9\n",
      "/sql-rank-and-partition-features.html\n",
      "/author/prasanna-kulkarni.html\n",
      "/category/coding.html\n",
      "/sql-rank-and-partition-features.html\n",
      "/types-of-charts.html\n",
      "/author/prasanna-kulkarni.html\n",
      "/category/analyst.html\n",
      "/types-of-charts.html\n",
      "/how-to-prepare-a-digital-ocean-droplet-for-django.html\n",
      "/author/prasanna-kulkarni.html\n",
      "/category/coding.html\n",
      "/how-to-prepare-a-digital-ocean-droplet-for-django.html\n",
      "/python-beginner-tips.html\n",
      "/author/prasanna-kulkarni.html\n",
      "/category/coding.html\n",
      "/python-beginner-tips.html\n",
      "/fire-friendly-digital-strategies.html\n",
      "/author/prasanna-kulkarni.html\n",
      "/category/seed.html\n",
      "/fire-friendly-digital-strategies.html\n",
      "/search-engine.html\n",
      "/author/prasanna-kulkarni.html\n",
      "/category/seed.html\n",
      "https://yacy.net/\n",
      "https://commoncrawl.org/\n",
      "https://developers.google.com/web/tools/chrome-user-experience-report/\n",
      "https://almanac.httparchive.org/en/2021/methodology#websites\n",
      "/search-engine.html\n",
      "/my-fav-advice.html\n",
      "/author/prasanna-kulkarni.html\n",
      "/category/public-journal.html\n",
      "/my-fav-advice.html\n",
      "/study-guide-to-become-a-marketing-analyst.html\n",
      "/author/prasanna-kulkarni.html\n",
      "/category/public-journal.html\n",
      "/study-guide-to-become-a-marketing-analyst.html\n",
      "https://getpelican.com/\n",
      "https://www.python.org/\n",
      "https://palletsprojects.com/p/jinja/\n",
      "https://github.com/prasannakulkarni333\n",
      "#\n",
      "#\n",
      "https://getpelican.com/\n",
      "https://www.python.org/\n",
      "https://www.smashingmagazine.com/2009/08/designing-a-html-5-layout-from-scratch/\n"
     ]
    },
    {
     "data": {
      "text/plain": [
       "(0, ['All links are working'])"
      ]
     },
     "execution_count": 7,
     "metadata": {},
     "output_type": "execute_result"
    }
   ],
   "source": [
    "def traversecheck_html(html:str):\n",
    "    import bs4\n",
    "    x = bs4.BeautifulSoup(html, 'html.parser')\n",
    "    # get meta viewport tag value\n",
    "    message = []\n",
    "    score = 0\n",
    "    message.append('All links are working')\n",
    "    if x.find('meta', {'name': 'viewport'})['content'] == 'width=device-width, initial-scale=1':\n",
    "        score += 10\n",
    "        message.append('Meta viewport tag is set correctly')\n",
    "    # get all links\n",
    "    for link in x.find_all('a'):\n",
    "        print(link.get('href'))\n",
    "    return score, message\n",
    "traversecheck_html(html_text_to_check)"
   ]
  }
 ],
 "metadata": {
  "kernelspec": {
   "display_name": "Python 3",
   "language": "python",
   "name": "python3"
  },
  "language_info": {
   "codemirror_mode": {
    "name": "ipython",
    "version": 3
   },
   "file_extension": ".py",
   "mimetype": "text/x-python",
   "name": "python",
   "nbconvert_exporter": "python",
   "pygments_lexer": "ipython3",
   "version": "3.10.13"
  }
 },
 "nbformat": 4,
 "nbformat_minor": 2
}
