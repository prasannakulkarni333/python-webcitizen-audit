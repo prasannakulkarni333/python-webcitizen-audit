{
 "cells": [
  {
   "cell_type": "code",
   "execution_count": 20,
   "metadata": {},
   "outputs": [],
   "source": [
    "import requests\n",
    " \n",
    "response = requests.get('http://prasannakulkarni.com')\n",
    "html_text_to_check = response.text\n"
   ]
  },
  {
   "cell_type": "code",
   "execution_count": 33,
   "metadata": {},
   "outputs": [
    {
     "name": "stdout",
     "output_type": "stream",
     "text": [
      "<meta content=\"width=device-width, initial-scale=1.0\" name=\"viewport\"/>\n"
     ]
    },
    {
     "data": {
      "text/plain": [
       "(10, ['Meta viewport tag is set correctly'])"
      ]
     },
     "execution_count": 33,
     "metadata": {},
     "output_type": "execute_result"
    }
   ],
   "source": [
    "def traversecheck_html(html:str):\n",
    "    import bs4\n",
    "    x = bs4.BeautifulSoup(html, 'html.parser')\n",
    "    # get meta viewport tag value\n",
    "    message = []\n",
    "    score = 0\n",
    "    meta_viewport_value = x.find('meta', {'name': 'viewport'})\n",
    "    print((meta_viewport_value))\n",
    "    meta_viewport_value = meta_viewport_value.get('content')\n",
    "    if str(meta_viewport_value) == 'width=device-width, initial-scale=1.0':\n",
    "        score += 10\n",
    "        message.append('Meta viewport tag is set correctly')\n",
    "    # get all links\n",
    "    # for link in x.find_all('a'):\n",
    "        # print(link.get('href'))\n",
    "    return score, message\n",
    "traversecheck_html(html_text_to_check)"
   ]
  }
 ],
 "metadata": {
  "kernelspec": {
   "display_name": "Python 3",
   "language": "python",
   "name": "python3"
  },
  "language_info": {
   "codemirror_mode": {
    "name": "ipython",
    "version": 3
   },
   "file_extension": ".py",
   "mimetype": "text/x-python",
   "name": "python",
   "nbconvert_exporter": "python",
   "pygments_lexer": "ipython3",
   "version": "3.10.13"
  }
 },
 "nbformat": 4,
 "nbformat_minor": 2
}
